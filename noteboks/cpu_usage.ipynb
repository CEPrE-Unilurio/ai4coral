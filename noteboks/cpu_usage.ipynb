{
 "cells": [
  {
   "cell_type": "code",
   "execution_count": 20,
   "id": "center-subject",
   "metadata": {},
   "outputs": [],
   "source": [
    "import pandas as pd\n",
    "import matplotlib.pyplot as plt"
   ]
  },
  {
   "cell_type": "code",
   "execution_count": 22,
   "id": "periodic-perry",
   "metadata": {},
   "outputs": [],
   "source": [
    "df = pd.read_csv(\"cpu_log.csv\")"
   ]
  },
  {
   "cell_type": "code",
   "execution_count": null,
   "id": "rocky-racing",
   "metadata": {},
   "outputs": [],
   "source": [
    "plt.figure()\n",
    "df['CPU_USAGE'].plot(title='cpu usage')\n",
    "plt.show()"
   ]
  },
  {
   "cell_type": "code",
   "execution_count": null,
   "id": "closed-collins",
   "metadata": {},
   "outputs": [],
   "source": [
    "plt.figure()\n",
    "df['TEMPERATURE,'].plot(title='cpu usage')\n",
    "plt.show()"
   ]
  },
  {
   "cell_type": "code",
   "execution_count": null,
   "metadata": {},
   "outputs": [],
   "source": [
    "plt.figure()\n",
    "plt.plot(df['CPU_1'])\n",
    "plt.plot(df['CPU_2'])\n",
    "plt.plot(df['CPU_3'])\n",
    "plt.plot(df['CPU_4'])\n",
    "plt.ylabel(\"Percentagem\")\n",
    "plt.yscale('linear')\n",
    "plt.xscale('linear')\n",
    "plt.title(\"CORE USAGE\")\n",
    "plt.tight_layout()\n",
    "plt.grid(True, color='w', linestyle='-')\n",
    "plt.gca().patch.set_facecolor('lightgrey')\n",
    "plt.legend()\n",
    "plt.show()"
   ]
  }
 ],
 "metadata": {
  "kernelspec": {
   "display_name": "Python 3",
   "language": "python",
   "name": "python3"
  },
  "language_info": {
   "codemirror_mode": {
    "name": "ipython",
    "version": 3
   },
   "file_extension": ".py",
   "mimetype": "text/x-python",
   "name": "python",
   "nbconvert_exporter": "python",
   "pygments_lexer": "ipython3",
   "version": "3.7.9-final"
  }
 },
 "nbformat": 4,
 "nbformat_minor": 5
}