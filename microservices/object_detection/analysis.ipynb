{
 "cells": [
  {
   "cell_type": "code",
   "execution_count": 9,
   "metadata": {},
   "outputs": [],
   "source": [
    "import pandas as pd\n",
    "import matplotlib.pyplot as plt"
   ]
  },
  {
   "cell_type": "code",
   "execution_count": 5,
   "metadata": {},
   "outputs": [],
   "source": [
    "df = pd.read_csv('api_perfomance.csv')"
   ]
  },
  {
   "cell_type": "code",
   "execution_count": null,
   "metadata": {},
   "outputs": [],
   "source": []
  },
  {
   "cell_type": "code",
   "execution_count": 6,
   "metadata": {},
   "outputs": [
    {
     "data": {
      "text/html": [
       "<div>\n",
       "<style scoped>\n",
       "    .dataframe tbody tr th:only-of-type {\n",
       "        vertical-align: middle;\n",
       "    }\n",
       "\n",
       "    .dataframe tbody tr th {\n",
       "        vertical-align: top;\n",
       "    }\n",
       "\n",
       "    .dataframe thead th {\n",
       "        text-align: right;\n",
       "    }\n",
       "</style>\n",
       "<table border=\"1\" class=\"dataframe\">\n",
       "  <thead>\n",
       "    <tr style=\"text-align: right;\">\n",
       "      <th></th>\n",
       "      <th>load_image</th>\n",
       "      <th>make_interpreter</th>\n",
       "      <th>set_input</th>\n",
       "      <th>invoke_interpreter</th>\n",
       "      <th>get_output</th>\n",
       "      <th>get_annotations</th>\n",
       "    </tr>\n",
       "  </thead>\n",
       "  <tbody>\n",
       "    <tr>\n",
       "      <th>0</th>\n",
       "      <td>8.265926</td>\n",
       "      <td>1.338307</td>\n",
       "      <td>16.696317</td>\n",
       "      <td>114.325428</td>\n",
       "      <td>0.316627</td>\n",
       "      <td>1.428853</td>\n",
       "    </tr>\n",
       "    <tr>\n",
       "      <th>1</th>\n",
       "      <td>0.109034</td>\n",
       "      <td>0.016229</td>\n",
       "      <td>19.213058</td>\n",
       "      <td>111.248564</td>\n",
       "      <td>0.293521</td>\n",
       "      <td>0.632827</td>\n",
       "    </tr>\n",
       "    <tr>\n",
       "      <th>2</th>\n",
       "      <td>0.097984</td>\n",
       "      <td>0.015418</td>\n",
       "      <td>18.336672</td>\n",
       "      <td>106.543852</td>\n",
       "      <td>0.267569</td>\n",
       "      <td>0.622781</td>\n",
       "    </tr>\n",
       "    <tr>\n",
       "      <th>3</th>\n",
       "      <td>0.135014</td>\n",
       "      <td>0.016134</td>\n",
       "      <td>16.489119</td>\n",
       "      <td>109.326562</td>\n",
       "      <td>0.312616</td>\n",
       "      <td>0.545882</td>\n",
       "    </tr>\n",
       "    <tr>\n",
       "      <th>4</th>\n",
       "      <td>0.113258</td>\n",
       "      <td>0.017895</td>\n",
       "      <td>17.858707</td>\n",
       "      <td>107.872520</td>\n",
       "      <td>0.299099</td>\n",
       "      <td>0.623233</td>\n",
       "    </tr>\n",
       "  </tbody>\n",
       "</table>\n",
       "</div>"
      ],
      "text/plain": [
       "   load_image  make_interpreter  set_input  invoke_interpreter  get_output  \\\n",
       "0    8.265926          1.338307  16.696317          114.325428    0.316627   \n",
       "1    0.109034          0.016229  19.213058          111.248564    0.293521   \n",
       "2    0.097984          0.015418  18.336672          106.543852    0.267569   \n",
       "3    0.135014          0.016134  16.489119          109.326562    0.312616   \n",
       "4    0.113258          0.017895  17.858707          107.872520    0.299099   \n",
       "\n",
       "   get_annotations  \n",
       "0         1.428853  \n",
       "1         0.632827  \n",
       "2         0.622781  \n",
       "3         0.545882  \n",
       "4         0.623233  "
      ]
     },
     "execution_count": 6,
     "metadata": {},
     "output_type": "execute_result"
    }
   ],
   "source": [
    "df.head()"
   ]
  },
  {
   "cell_type": "code",
   "execution_count": 26,
   "metadata": {},
   "outputs": [
    {
     "data": {
      "text/plain": [
       "<matplotlib.axes._subplots.AxesSubplot at 0x7f7827523690>"
      ]
     },
     "execution_count": 26,
     "metadata": {},
     "output_type": "execute_result"
    },
    {
     "data": {
      "image/png": "[encoded data removed]",
      "text/plain": [
       "<Figure size 432x288 with 1 Axes>"
      ]
     },
     "metadata": {},
     "output_type": "display_data"
    }
   ],
   "source": [
    "plt.figure()\n",
    "df.mean(axis=0).plot(kind='pie')"
   ]
  },
  {
   "cell_type": "code",
   "execution_count": 27,
   "metadata": {},
   "outputs": [
    {
     "data": {
      "text/plain": [
       "<matplotlib.axes._subplots.AxesSubplot at 0x7f78274f4410>"
      ]
     },
     "execution_count": 27,
     "metadata": {},
     "output_type": "execute_result"
    },
    {
     "data": {
      "image/png": "[encoded data removed]",
      "text/plain": [
       "<Figure size 432x288 with 1 Axes>"
      ]
     },
     "metadata": {
      "needs_background": "light"
     },
     "output_type": "display_data"
    }
   ],
   "source": [
    "\n",
    "df.mean(axis=0).plot(kind='bar')"
   ]
  },
  {
   "cell_type": "code",
   "execution_count": null,
   "metadata": {},
   "outputs": [],
   "source": []
  }
 ],
 "metadata": {
  "kernelspec": {
   "display_name": "Python 3",
   "language": "python",
   "name": "python3"
  },
  "language_info": {
   "codemirror_mode": {
    "name": "ipython",
    "version": 3
   },
   "file_extension": ".py",
   "mimetype": "text/x-python",
   "name": "python",
   "nbconvert_exporter": "python",
   "pygments_lexer": "ipython3",
   "version": "3.7.7"
  }
 },
 "nbformat": 4,
 "nbformat_minor": 4
}
