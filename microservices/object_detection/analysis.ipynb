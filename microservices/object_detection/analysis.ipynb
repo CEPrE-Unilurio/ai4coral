{
 "cells": [
  {
   "cell_type": "code",
   "execution_count": 1,
   "metadata": {},
   "outputs": [],
   "source": [
    "import pandas as pd\n",
    "import matplotlib.pyplot as plt"
   ]
  },
  {
   "cell_type": "code",
   "execution_count": 5,
   "metadata": {},
   "outputs": [],
   "source": [
    "df = pd.read_csv('benchmark.csv')"
   ]
  },
  {
   "cell_type": "code",
   "execution_count": null,
   "metadata": {},
   "outputs": [],
   "source": []
  },
  {
   "cell_type": "code",
   "execution_count": 6,
   "metadata": {},
   "outputs": [
    {
     "data": {
      "text/html": [
       "<div>\n",
       "<style scoped>\n",
       "    .dataframe tbody tr th:only-of-type {\n",
       "        vertical-align: middle;\n",
       "    }\n",
       "\n",
       "    .dataframe tbody tr th {\n",
       "        vertical-align: top;\n",
       "    }\n",
       "\n",
       "    .dataframe thead th {\n",
       "        text-align: right;\n",
       "    }\n",
       "</style>\n",
       "<table border=\"1\" class=\"dataframe\">\n",
       "  <thead>\n",
       "    <tr style=\"text-align: right;\">\n",
       "      <th></th>\n",
       "      <th>load_image</th>\n",
       "      <th>make_interpreter</th>\n",
       "      <th>set_input</th>\n",
       "      <th>invoke_interpreter</th>\n",
       "      <th>get_output</th>\n",
       "      <th>get_annotations</th>\n",
       "    </tr>\n",
       "  </thead>\n",
       "  <tbody>\n",
       "    <tr>\n",
       "      <th>0</th>\n",
       "      <td>0.113137</td>\n",
       "      <td>0.016786</td>\n",
       "      <td>21.462826</td>\n",
       "      <td>151.969148</td>\n",
       "      <td>0.473550</td>\n",
       "      <td>1.171242</td>\n",
       "    </tr>\n",
       "    <tr>\n",
       "      <th>1</th>\n",
       "      <td>0.453386</td>\n",
       "      <td>0.037143</td>\n",
       "      <td>22.119546</td>\n",
       "      <td>148.272041</td>\n",
       "      <td>0.498395</td>\n",
       "      <td>0.876483</td>\n",
       "    </tr>\n",
       "    <tr>\n",
       "      <th>2</th>\n",
       "      <td>0.105498</td>\n",
       "      <td>0.016001</td>\n",
       "      <td>22.698694</td>\n",
       "      <td>144.416405</td>\n",
       "      <td>0.291153</td>\n",
       "      <td>0.560268</td>\n",
       "    </tr>\n",
       "    <tr>\n",
       "      <th>3</th>\n",
       "      <td>0.159762</td>\n",
       "      <td>0.018316</td>\n",
       "      <td>17.115731</td>\n",
       "      <td>107.270082</td>\n",
       "      <td>0.260853</td>\n",
       "      <td>0.733083</td>\n",
       "    </tr>\n",
       "    <tr>\n",
       "      <th>4</th>\n",
       "      <td>0.156840</td>\n",
       "      <td>0.018880</td>\n",
       "      <td>18.849441</td>\n",
       "      <td>105.912487</td>\n",
       "      <td>0.317607</td>\n",
       "      <td>0.544593</td>\n",
       "    </tr>\n",
       "  </tbody>\n",
       "</table>\n",
       "</div>"
      ],
      "text/plain": [
       "   load_image  make_interpreter  set_input  invoke_interpreter  get_output  \\\n",
       "0    0.113137          0.016786  21.462826          151.969148    0.473550   \n",
       "1    0.453386          0.037143  22.119546          148.272041    0.498395   \n",
       "2    0.105498          0.016001  22.698694          144.416405    0.291153   \n",
       "3    0.159762          0.018316  17.115731          107.270082    0.260853   \n",
       "4    0.156840          0.018880  18.849441          105.912487    0.317607   \n",
       "\n",
       "   get_annotations  \n",
       "0         1.171242  \n",
       "1         0.876483  \n",
       "2         0.560268  \n",
       "3         0.733083  \n",
       "4         0.544593  "
      ]
     },
     "execution_count": 6,
     "metadata": {},
     "output_type": "execute_result"
    }
   ],
   "source": [
    "df.head()"
   ]
  },
  {
   "cell_type": "code",
   "execution_count": 7,
   "metadata": {},
   "outputs": [
    {
     "data": {
      "text/plain": [
       "<matplotlib.axes._subplots.AxesSubplot at 0x7f2a560e2210>"
      ]
     },
     "execution_count": 7,
     "metadata": {},
     "output_type": "execute_result"
    },
    {
     "data": {
      "image/png": "[encoded data removed]",
      "text/plain": [
       "<Figure size 432x288 with 1 Axes>"
      ]
     },
     "metadata": {},
     "output_type": "display_data"
    }
   ],
   "source": [
    "plt.figure()\n",
    "df.mean(axis=0).plot(kind='pie')"
   ]
  },
  {
   "cell_type": "code",
   "execution_count": 8,
   "metadata": {},
   "outputs": [
    {
     "data": {
      "text/plain": [
       "<matplotlib.axes._subplots.AxesSubplot at 0x7f2a537d0fd0>"
      ]
     },
     "execution_count": 8,
     "metadata": {},
     "output_type": "execute_result"
    },
    {
     "data": {
      "image/png": "[encoded data removed]",
      "text/plain": [
       "<Figure size 432x288 with 1 Axes>"
      ]
     },
     "metadata": {
      "needs_background": "light"
     },
     "output_type": "display_data"
    }
   ],
   "source": [
    "\n",
    "df.mean(axis=0).plot(kind='bar')"
   ]
  },
  {
   "cell_type": "code",
   "execution_count": null,
   "metadata": {},
   "outputs": [],
   "source": []
  }
 ],
 "metadata": {
  "kernelspec": {
   "display_name": "Python 3",
   "language": "python",
   "name": "python3"
  },
  "language_info": {
   "codemirror_mode": {
    "name": "ipython",
    "version": 3
   },
   "file_extension": ".py",
   "mimetype": "text/x-python",
   "name": "python",
   "nbconvert_exporter": "python",
   "pygments_lexer": "ipython3",
   "version": "3.7.7"
  }
 },
 "nbformat": 4,
 "nbformat_minor": 4
}
